{
 "cells": [
  {
   "cell_type": "code",
   "execution_count": null,
   "id": "b7ab53d3",
   "metadata": {},
   "outputs": [],
   "source": [
    "import math\n",
    "a = int(input('Enter value of a: '))\n",
    "b = int(input('Enter value of b: '))\n",
    "c = int(input('Enter value of c: '))\n",
    "d = pow(b,2) - 4 * (a*c)\n",
    "print('Determinant = ',d)\n",
    "if (d > 0):\n",
    "    x1 = (-b + math.sqrt(d)) / 2*a\n",
    "    x2 = (-b - math.sqrt(d)) / 2*a\n",
    "    print('Roots are x1 = ',x1,' and x2 = ',x2)\n",
    "    \n",
    "elif (d == 0):\n",
    "    print('Real Roots Only')\n",
    "    x = -b/2*a\n",
    "    print('Real Root:', x)\n",
    "    \n",
    "else:\n",
    "    print('Complex Roots')"
   ]
  },
  {
   "cell_type": "code",
   "execution_count": null,
   "id": "4d0f1530",
   "metadata": {},
   "outputs": [],
   "source": [
    "def smaller(x, s , n):\n",
    "    count = 0\n",
    "    for i in range(s):\n",
    "        if(n > x[i]):\n",
    "            print(x[i],' < ',n)\n",
    "            count=count+1\n",
    "    \n",
    "    return count\n",
    "\n",
    "\n",
    "#arr = [13,56,21,45,20,43,12,43,6]\n",
    "arr = list()\n",
    "s = int(input('Enter size of array : '))\n",
    "print('Enter ', s, ' numbers : ')\n",
    "for i in range(s):\n",
    "    arr.append(int(input('')))\n",
    "\n",
    "n=int(input('Enter the number for comparison : '))\n",
    "num = smaller(arr, s, n)\n",
    "print('Number of elements that are less than ',n,' are : ',num)"
   ]
  },
  {
   "cell_type": "code",
   "execution_count": null,
   "id": "05f8bf40",
   "metadata": {},
   "outputs": [],
   "source": [
    "lst = [12,24,35,24,88,120,155,88,120,155]\n",
    "print('Old List : ', lst)\n",
    "new = []\n",
    "for num in lst:\n",
    "    if num not in new:\n",
    "        new.append(num)    \n",
    "new.reverse()\n",
    "print('New List : ', new)"
   ]
  },
  {
   "cell_type": "code",
   "execution_count": null,
   "id": "a25fee3f",
   "metadata": {},
   "outputs": [],
   "source": [
    "arr1 = [1,3,6,78,35,55]\n",
    "arr2 = [12,24,35,24,88,120,155]\n",
    "arr1 = set(arr1)\n",
    "arr2 = set(arr2)\n",
    "inter = arr1 & arr2\n",
    "print('Intersection = ', inter)"
   ]
  },
  {
   "cell_type": "code",
   "execution_count": null,
   "id": "7902f17c",
   "metadata": {},
   "outputs": [],
   "source": [
    "w = float(input('Enter weight : '))\n",
    "h = float(input('Enter height : '))\n",
    "bmi = w / (pow(h,2))\n",
    "print('BMI = ',bmi)"
   ]
  },
  {
   "cell_type": "code",
   "execution_count": null,
   "id": "9f82a2c9",
   "metadata": {},
   "outputs": [],
   "source": [
    "growth_multiplier = 1.3\n",
    "sal = float(input('Enter salary : '))\n",
    "sales = sal* (growth_multiplier**7)\n",
    "print('Sales in 7 years = ',sales)"
   ]
  },
  {
   "cell_type": "code",
   "execution_count": null,
   "id": "f56b7148",
   "metadata": {},
   "outputs": [],
   "source": [
    "m_kg = float(input('Enter your weight : '))\n",
    "m_stone = (m_kg*2.2) / 14\n",
    "print('Your weight in stone = ', m_stone)"
   ]
  },
  {
   "cell_type": "code",
   "execution_count": null,
   "id": "2ec3d02a",
   "metadata": {},
   "outputs": [],
   "source": [
    "lst1 = ['hall','bedroom','dining room','drawing room']\n",
    "lst2 = ['14.0','7.5','6.5','8.5']\n",
    "lst = []\n",
    "\n",
    "for i in range(len(lst1)):\n",
    "    lst.append(lst1[i]+' '+lst2[i])\n",
    "\n",
    "print('List=',lst)"
   ]
  },
  {
   "cell_type": "code",
   "execution_count": null,
   "id": "2a9f2efa",
   "metadata": {},
   "outputs": [],
   "source": [
    "std = ['Saman Khan', 'Anusha Saad', 'Hermain Qadir']\n",
    "lst1 = [2.8, 4, 3.73, 3.83, 3.71]\n",
    "lst2 = [2.7, 3.9, 3.45, 3.63, 3.21]\n",
    "lst3 = [3.33, 4, 3.6, 3.51, 3.46]\n",
    "crd_hr = [17, 13, 16, 16, 17, 17]\n",
    "\n",
    "def calc_cga(sgpa, crdh):\n",
    "    total = 0\n",
    "    for i in  range(4):\n",
    "        crdh[i] = crdh[i] * sgpa[i]\n",
    "        total = total + sgpa[i]        \n",
    "    return total/4\n",
    "\n",
    "std1 = calc_cga(lst1, crd_hr)\n",
    "l1 = std[0] + ' ' + str(std1)\n",
    "std2 = calc_cga(lst2, crd_hr)\n",
    "l2 = std[1] + ' ' + str(std2)\n",
    "std3 = calc_cga(lst3, crd_hr)\n",
    "l3 = std[2] + ' ' + str(std3)\n",
    "trans = []\n",
    "trans.append(l1)\n",
    "trans.append(l2)\n",
    "trans.append(l3)\n",
    "print(trans)"
   ]
  }
 ],
 "metadata": {
  "kernelspec": {
   "display_name": "Python 3",
   "language": "python",
   "name": "python3"
  },
  "language_info": {
   "codemirror_mode": {
    "name": "ipython",
    "version": 3
   },
   "file_extension": ".py",
   "mimetype": "text/x-python",
   "name": "python",
   "nbconvert_exporter": "python",
   "pygments_lexer": "ipython3",
   "version": "3.8.8"
  }
 },
 "nbformat": 4,
 "nbformat_minor": 5
}
