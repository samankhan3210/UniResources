{
 "cells": [
  {
   "cell_type": "code",
   "execution_count": 1,
   "metadata": {},
   "outputs": [
    {
     "name": "stdout",
     "output_type": "stream",
     "text": [
      "   A    B  C\n",
      "0  1  2.0  3\n",
      "1  4  5.0  6\n",
      "4  2  NaN  5\n",
      "       A  B  C\n",
      "2      2  5  6\n",
      "3  Hello  3  4\n"
     ]
    }
   ],
   "source": [
    "import pandas as pd\n",
    "df1 = pd.read_csv('data1.csv', index_col = 0)\n",
    "df2 = pd.read_csv('data2.csv', index_col = 1)\n",
    "print(df1)\n",
    "print(df2)"
   ]
  },
  {
   "cell_type": "code",
   "execution_count": 2,
   "metadata": {},
   "outputs": [
    {
     "name": "stdout",
     "output_type": "stream",
     "text": [
      "       A    B  C\n",
      "0      1  2.0  3\n",
      "1      4  5.0  6\n",
      "4      2  NaN  5\n",
      "2      2  5.0  6\n",
      "3  Hello  3.0  4\n"
     ]
    }
   ],
   "source": [
    "df3 = pd.concat([df1,df2])\n",
    "print(df3)"
   ]
  },
  {
   "cell_type": "code",
   "execution_count": 3,
   "metadata": {},
   "outputs": [
    {
     "name": "stdout",
     "output_type": "stream",
     "text": [
      "   D  E\n",
      "1  1  7\n",
      "4  0  8\n",
      "       A    B  C    D    E\n",
      "0      1  2.0  3  NaN  NaN\n",
      "1      4  5.0  6  1.0  7.0\n",
      "2      2  5.0  6  NaN  NaN\n",
      "3  Hello  3.0  4  NaN  NaN\n",
      "4      2  NaN  5  0.0  8.0\n"
     ]
    }
   ],
   "source": [
    "df4 = pd.read_csv('data3.csv', index_col = 0)\n",
    "print(df4)\n",
    "df5 = pd.concat([df3, df4], axis = 1)\n",
    "print(df5)"
   ]
  },
  {
   "cell_type": "code",
   "execution_count": 4,
   "metadata": {},
   "outputs": [
    {
     "name": "stdout",
     "output_type": "stream",
     "text": [
      "    A  B\n",
      "0  11  9\n",
      "1  22  7\n",
      "2  33  8\n",
      "       A    B    C    D    E\n",
      "0      1  2.0  3.0  NaN  NaN\n",
      "1      4  5.0  6.0  1.0  7.0\n",
      "2      2  5.0  6.0  NaN  NaN\n",
      "3  Hello  3.0  4.0  NaN  NaN\n",
      "4      2  NaN  5.0  0.0  8.0\n",
      "5     11  9.0  NaN  NaN  NaN\n",
      "6     22  7.0  NaN  NaN  NaN\n",
      "7     33  8.0  NaN  NaN  NaN\n"
     ]
    }
   ],
   "source": [
    "df6 = pd.read_json('data.json')\n",
    "print(df6)\n",
    "df7 = pd.concat([df5, df6]).reset_index(drop = True)\n",
    "print(df7)"
   ]
  },
  {
   "cell_type": "code",
   "execution_count": 5,
   "metadata": {},
   "outputs": [
    {
     "name": "stdout",
     "output_type": "stream",
     "text": [
      "     A    B    C    D    E\n",
      "0    1  2.0  3.0  NaN  NaN\n",
      "1    4  5.0  6.0  1.0  7.0\n",
      "2    2  5.0  6.0  NaN  NaN\n",
      "3  NaN  3.0  4.0  NaN  NaN\n",
      "4    2  NaN  5.0  0.0  8.0\n",
      "5   11  9.0  NaN  NaN  NaN\n",
      "6   22  7.0  NaN  NaN  NaN\n",
      "7   33  8.0  NaN  NaN  NaN\n"
     ]
    }
   ],
   "source": [
    "import numpy as np\n",
    "\n",
    "df7.replace('Hello', np.nan, inplace = True)\n",
    "print(df7)"
   ]
  },
  {
   "cell_type": "code",
   "execution_count": 9,
   "metadata": {},
   "outputs": [
    {
     "name": "stdout",
     "output_type": "stream",
     "text": [
      "    A         B    C    D    E\n",
      "0   1  2.000000  3.0  0.5  7.5\n",
      "1   4  5.000000  6.0  1.0  7.0\n",
      "2   2  5.000000  6.0  0.5  7.5\n",
      "3  10  3.000000  4.0  0.5  7.5\n",
      "4   2  5.571429  5.0  0.0  8.0\n",
      "5  11  9.000000  4.8  0.5  7.5\n",
      "6  22  7.000000  4.8  0.5  7.5\n",
      "7  33  8.000000  4.8  0.5  7.5\n"
     ]
    }
   ],
   "source": [
    "df7['A'] = pd.to_numeric(df7['A'])\n",
    "df7['A'] = df7['A'].astype('int64')\n",
    "df7.fillna(df7.mean(), inplace = True)\n",
    "print(df7)"
   ]
  },
  {
   "cell_type": "code",
   "execution_count": null,
   "metadata": {
    "collapsed": true
   },
   "outputs": [],
   "source": []
  }
 ],
 "metadata": {
  "kernelspec": {
   "display_name": "Python 3",
   "language": "python",
   "name": "python3"
  },
  "language_info": {
   "codemirror_mode": {
    "name": "ipython",
    "version": 3
   },
   "file_extension": ".py",
   "mimetype": "text/x-python",
   "name": "python",
   "nbconvert_exporter": "python",
   "pygments_lexer": "ipython3",
   "version": "3.8.8"
  }
 },
 "nbformat": 4,
 "nbformat_minor": 2
}
