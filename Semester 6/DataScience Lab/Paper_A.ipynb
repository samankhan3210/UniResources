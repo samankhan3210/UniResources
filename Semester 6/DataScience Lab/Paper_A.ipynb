{
 "cells": [
  {
   "cell_type": "code",
   "execution_count": 35,
   "id": "5411dd47",
   "metadata": {},
   "outputs": [
    {
     "name": "stdout",
     "output_type": "stream",
     "text": [
      "   sepal-length  sepal-width  petal-length  petal-width      species\n",
      "0           4.9          3.0           1.4          0.2  Iris-setosa\n",
      "1           4.7          3.2           1.3          0.2  Iris-setosa\n",
      "2           4.6          3.1           1.5          0.2  Iris-setosa\n",
      "3           5.0          3.6           1.4          0.2  Iris-setosa\n",
      "4           5.4          3.9           1.7          0.4  Iris-setosa\n",
      "   sepal-length  sepal-width  petal-length      species\n",
      "0           4.9          3.0           1.4  Iris-setosa\n",
      "1           4.7          3.2           1.3  Iris-setosa\n",
      "2           4.6          3.1           1.5  Iris-setosa\n",
      "3           5.0          3.6           1.4  Iris-setosa\n",
      "4           5.4          3.9           1.7  Iris-setosa\n",
      "1 [] [0.9        0.86666667 0.9        0.96666667 0.96551724]\n",
      "2 [] [0.93333333 0.9        0.96666667 0.93333333 0.82758621]\n",
      "3 [] [0.86666667 1.         0.93333333 0.93333333 0.86206897]\n",
      "4 [] [0.93333333 0.9        0.96666667 0.86666667 1.        ]\n",
      "5 [] [0.93333333 1.         0.96666667 1.         0.89655172]\n",
      "6 [] [0.93333333 0.96666667 0.96666667 0.9        0.93103448]\n",
      "7 [] [0.96666667 0.96666667 0.96666667 0.93333333 0.89655172]\n",
      "8 [] [1.         0.9        0.96666667 0.86666667 0.93103448]\n",
      "9 [] [0.9        0.96666667 1.         0.93333333 0.93103448]\n",
      "10 [] [0.93333333 0.96666667 0.9        1.         0.93103448]\n",
      "Highes Accuracy =  0.9593103448275861  at  k =  5\n"
     ]
    }
   ],
   "source": [
    "# Question number 01-A\n",
    "import pandas as pd\n",
    "import numpy as np\n",
    "from sklearn.model_selection import train_test_split\n",
    "from sklearn.metrics import classification_report\n",
    "from sklearn.metrics import confusion_matrix\n",
    "from sklearn.metrics import accuracy_score\n",
    "from sklearn.neighbors import KNeighborsClassifier\n",
    "from sklearn.model_selection import KFold\n",
    "from sklearn.model_selection import cross_val_score\n",
    "\n",
    "names = ['sepal-length', 'sepal-width', 'petal-length', 'petal-width', 'species']\n",
    "dataset = pd.read_csv(\"iris.data\", names=names).drop(0, axis=0).reset_index(drop=True)\n",
    "print(dataset.head())\n",
    "dataset.drop('petal-width', axis=1, inplace=True)\n",
    "print(dataset.head())\n",
    "array = dataset.values\n",
    "X = array[:, 0:3]\n",
    "Y = array[:, 3]\n",
    "kf = KFold(n_splits=5, shuffle=True)\n",
    "max_sc = 0\n",
    "for k in range(1,11):\n",
    "    kf = KFold(n_splits=5, shuffle=True)\n",
    "    knn = KNeighborsClassifier(n_neighbors=k)\n",
    "    scores = cross_val_score(knn, X, Y, scoring='accuracy', cv=kf, n_jobs=-1)\n",
    "    print(k, val, scores)\n",
    "    if max_sc <= np.mean(scores):\n",
    "        max_sc = np.mean(scores)\n",
    "        max_k = k\n",
    "    \n",
    "print(\"Highes Accuracy = \", max_sc, \" at  k = \", max_k)"
   ]
  },
  {
   "cell_type": "code",
   "execution_count": null,
   "id": "71898039",
   "metadata": {},
   "outputs": [],
   "source": [
    "!pip install --upgrade --user nbconvert"
   ]
  },
  {
   "cell_type": "code",
   "execution_count": 41,
   "id": "f0ab2a11",
   "metadata": {},
   "outputs": [
    {
     "name": "stdout",
     "output_type": "stream",
     "text": [
      "   sepal-length  sepal-width  petal-length  petal-width      species\n",
      "0           4.9          3.0           1.4          0.2  Iris-setosa\n",
      "1           4.7          3.2           1.3          0.2  Iris-setosa\n",
      "2           4.6          3.1           1.5          0.2  Iris-setosa\n",
      "3           5.0          3.6           1.4          0.2  Iris-setosa\n",
      "4           5.4          3.9           1.7          0.4  Iris-setosa\n",
      "   sepal-length  sepal-width  petal-length      species\n",
      "0           4.9          3.0           1.4  Iris-setosa\n",
      "1           4.7          3.2           1.3  Iris-setosa\n",
      "2           4.6          3.1           1.5  Iris-setosa\n",
      "3           5.0          3.6           1.4  Iris-setosa\n",
      "4           5.4          3.9           1.7  Iris-setosa\n",
      "Accurcay :  0.9197701149425287\n"
     ]
    }
   ],
   "source": [
    "# Question number 01-B\n",
    "import numpy as np\n",
    "import pandas as pd\n",
    "from sklearn.metrics import confusion_matrix\n",
    "from sklearn.model_selection import train_test_split\n",
    "from sklearn.tree import DecisionTreeClassifier\n",
    "from sklearn.metrics import accuracy_score\n",
    "from sklearn.metrics import classification_report\n",
    "from sklearn.model_selection import cross_val_predict\n",
    "from sklearn.model_selection import cross_val_score\n",
    "\n",
    "\n",
    "names = ['sepal-length', 'sepal-width', 'petal-length', 'petal-width', 'species']\n",
    "dataset = pd.read_csv(\"iris.data\", names=names).drop(0, axis=0).reset_index(drop=True)\n",
    "print(dataset.head())\n",
    "dataset.drop('petal-width', axis=1, inplace=True)\n",
    "print(dataset.head())\n",
    "array = dataset.values\n",
    "X = array[:, 0:3]\n",
    "Y = array[:, 3]\n",
    "kf = KFold(n_splits=5, shuffle=True)\n",
    "\n",
    "dt = DecisionTreeClassifier( criterion='entropy', ccp_alpha = 0.015)\n",
    "scores = cross_val_score(dt, X, Y, scoring='accuracy', cv=kf, n_jobs=-1)\n",
    "print(\"Accurcay : \", np.mean(scores))"
   ]
  },
  {
   "cell_type": "code",
   "execution_count": 59,
   "id": "a1b05b73",
   "metadata": {},
   "outputs": [
    {
     "name": "stdout",
     "output_type": "stream",
     "text": [
      "   Pregnancies  Glucose  BloodPressure  SkinThickness  Insulin   BMI  \\\n",
      "0            1       89             66             23       94  28.1   \n",
      "1            0      137             40             35      168  43.1   \n",
      "2            3       78             50             32       88  31.0   \n",
      "3            2      197             70             45      543  30.5   \n",
      "4            1      189             60             23      846  30.1   \n",
      "\n",
      "   DiabetesPedigreeFunction  Age  Outcome  \n",
      "0                     0.167   21        0  \n",
      "1                     2.288   33        1  \n",
      "2                     0.248   26        1  \n",
      "3                     0.158   53        1  \n",
      "4                     0.398   59        1  \n",
      "   Pregnancies  Glucose  BloodPressure  Insulin   BMI  Outcome\n",
      "0            1       89             66       94  28.1        0\n",
      "1            0      137             40      168  43.1        1\n",
      "2            3       78             50       88  31.0        1\n",
      "3            2      197             70      543  30.5        1\n",
      "4            1      189             60      846  30.1        1\n"
     ]
    },
    {
     "name": "stderr",
     "output_type": "stream",
     "text": [
      "C:\\Users\\Saman Khan\\anaconda3\\lib\\site-packages\\sklearn\\cluster\\_kmeans.py:881: UserWarning: KMeans is known to have a memory leak on Windows with MKL, when there are less chunks than available threads. You can avoid it by setting the environment variable OMP_NUM_THREADS=2.\n",
      "  warnings.warn(\n"
     ]
    },
    {
     "data": {
      "image/png": "[encoded data removed]",
      "text/plain": [
       "<Figure size 864x432 with 1 Axes>"
      ]
     },
     "metadata": {
      "needs_background": "light"
     },
     "output_type": "display_data"
    },
    {
     "name": "stdout",
     "output_type": "stream",
     "text": [
      "DecisionTreeClassifier(ccp_alpha=0.015, criterion='entropy')\n"
     ]
    },
    {
     "data": {
      "image/png": "[encoded data removed]",
      "text/plain": [
       "<Figure size 432x288 with 1 Axes>"
      ]
     },
     "metadata": {
      "needs_background": "light"
     },
     "output_type": "display_data"
    }
   ],
   "source": [
    "# Question number 02-A\n",
    "# importing required libraries\n",
    "import pandas as pd\n",
    "import numpy as np\n",
    "import matplotlib.pyplot as plt\n",
    "%matplotlib inline\n",
    "from sklearn.cluster import KMeans\n",
    "from sklearn.preprocessing import StandardScaler\n",
    "\n",
    "\n",
    "data=pd.read_csv(\"diabetes.csv\")\n",
    "print(data.head())\n",
    "data.drop(['SkinThickness', 'DiabetesPedigreeFunction', 'Age'], axis=1, inplace=True)\n",
    "print(data.head())\n",
    "scaler = StandardScaler()\n",
    "data_scaled = scaler.fit_transform(data)\n",
    "# fitting multiple k-means algorithms and storing the values in an empty list\n",
    "iner = []\n",
    "for cluster in range(1,11):\n",
    "    kmeans = KMeans(n_clusters = cluster, init='k-means++')\n",
    "    kmeans.fit(data_scaled)\n",
    "    iner.append(kmeans.inertia_)\n",
    "\n",
    "\n",
    "frame = pd.DataFrame({'Cluster':range(1,11), 'Inertia':iner})\n",
    "plt.figure(figsize=(12,6))\n",
    "plt.plot(frame['Cluster'], frame['Inertia'], marker='x')\n",
    "plt.xlabel('Number of clusters')\n",
    "plt.ylabel('Inertia')\n",
    "plt.show()\n",
    "\n",
    "kmeans = KMeans(n_clusters = 2, init='k-means++')\n",
    "kmeans.fit(data_scaled)\n",
    "pred = kmeans.predict(data_scaled)\n",
    "print(dt)\n",
    "\n",
    "X = np.array(data.loc[:,['Pregnancies',                # Choose your variable names\n",
    "                       'Glucose','BloodPressure','Insulin', 'BMI']])    \n",
    "kmeans = KMeans(n_clusters = 2, init='k-means++')\n",
    "pred_y = kmeans.fit_predict(X)\n",
    "\n",
    "\n",
    "\n",
    "plt.scatter(X[:,0], \n",
    "            X[:,3])\n",
    "\n",
    "# Plot the clusters \n",
    "plt.scatter(kmeans.cluster_centers_[:, 0], \n",
    "            kmeans.cluster_centers_[:, 1], \n",
    "            s=200,                             # Set centroid size\n",
    "            c='red')                           # Set centroid color\n",
    "plt.show()"
   ]
  },
  {
   "cell_type": "code",
   "execution_count": null,
   "id": "441fb3af",
   "metadata": {},
   "outputs": [],
   "source": []
  }
 ],
 "metadata": {
  "kernelspec": {
   "display_name": "Python 3",
   "language": "python",
   "name": "python3"
  },
  "language_info": {
   "codemirror_mode": {
    "name": "ipython",
    "version": 3
   },
   "file_extension": ".py",
   "mimetype": "text/x-python",
   "name": "python",
   "nbconvert_exporter": "python",
   "pygments_lexer": "ipython3",
   "version": "3.8.8"
  }
 },
 "nbformat": 4,
 "nbformat_minor": 5
}
