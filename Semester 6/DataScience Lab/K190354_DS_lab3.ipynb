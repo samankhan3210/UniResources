{
 "cells": [
  {
   "cell_type": "code",
   "execution_count": 2,
   "id": "6e0ad162",
   "metadata": {},
   "outputs": [
    {
     "name": "stdout",
     "output_type": "stream",
     "text": [
      "    cities provinces\n",
      "0   lahore    punjab\n",
      "1  karachi     sindh\n",
      "      cities    provinces\n",
      "0  islamabad      capital\n",
      "1    karachi        sindh\n",
      "2   peshawar          KPK\n",
      "3     quetta  Balochistan\n"
     ]
    },
    {
     "data": {
      "text/html": [
       "<div>\n",
       "<style scoped>\n",
       "    .dataframe tbody tr th:only-of-type {\n",
       "        vertical-align: middle;\n",
       "    }\n",
       "\n",
       "    .dataframe tbody tr th {\n",
       "        vertical-align: top;\n",
       "    }\n",
       "\n",
       "    .dataframe thead th {\n",
       "        text-align: right;\n",
       "    }\n",
       "</style>\n",
       "<table border=\"1\" class=\"dataframe\">\n",
       "  <thead>\n",
       "    <tr style=\"text-align: right;\">\n",
       "      <th></th>\n",
       "      <th>cities</th>\n",
       "      <th>provinces</th>\n",
       "    </tr>\n",
       "  </thead>\n",
       "  <tbody>\n",
       "    <tr>\n",
       "      <th>3</th>\n",
       "      <td>quetta</td>\n",
       "      <td>Balochistan</td>\n",
       "    </tr>\n",
       "    <tr>\n",
       "      <th>2</th>\n",
       "      <td>peshawar</td>\n",
       "      <td>KPK</td>\n",
       "    </tr>\n",
       "    <tr>\n",
       "      <th>0</th>\n",
       "      <td>islamabad</td>\n",
       "      <td>capital</td>\n",
       "    </tr>\n",
       "    <tr>\n",
       "      <th>0</th>\n",
       "      <td>lahore</td>\n",
       "      <td>punjab</td>\n",
       "    </tr>\n",
       "    <tr>\n",
       "      <th>1</th>\n",
       "      <td>karachi</td>\n",
       "      <td>sindh</td>\n",
       "    </tr>\n",
       "  </tbody>\n",
       "</table>\n",
       "</div>"
      ],
      "text/plain": [
       "      cities    provinces\n",
       "3     quetta  Balochistan\n",
       "2   peshawar          KPK\n",
       "0  islamabad      capital\n",
       "0     lahore       punjab\n",
       "1    karachi        sindh"
      ]
     },
     "execution_count": 2,
     "metadata": {},
     "output_type": "execute_result"
    }
   ],
   "source": [
    "import pandas as pd\n",
    "\n",
    "data = {'cities' : ['lahore','karachi',], 'provinces' : ['punjab','sindh']}\n",
    "frame1 = pd.DataFrame(data)\n",
    "print(frame1)\n",
    "\n",
    "data2 = {\"cities\": [\"islamabad\",\"karachi\",\"peshawar\",\"quetta\"],\n",
    "\"provinces\": [\"capital\",\"sindh\", \"KPK\",\"Balochistan\"]}\n",
    "frame2 = pd.DataFrame(data2)\n",
    "print(frame2)\n",
    "\n",
    "frame3 = pd.concat([frame1, frame2])\n",
    "frame3.drop_duplicates(inplace=True)\n",
    "frame3.sort_values(by=['provinces'], inplace=True)\n",
    "frame3"
   ]
  },
  {
   "cell_type": "code",
   "execution_count": 3,
   "id": "af3e5031",
   "metadata": {},
   "outputs": [
    {
     "name": "stdout",
     "output_type": "stream",
     "text": [
      "    Name  Field  Marks\n",
      "0    ---      0     21\n",
      "1    Ali      1     60\n",
      "2  Ahmed      1     21\n",
      "3   Nida      0     70\n",
      "4    ---      0     75\n"
     ]
    }
   ],
   "source": [
    "data = {\n",
    "    'Name': ['', 'Ali', 'Ahmed', 'Nida', ''],\n",
    "    'Field': ['C', 'E', 'E', 'C', 'C'],\n",
    "    'Age': ['', '', '', '', ''],\n",
    "    'Marks': [-90, 60, -10, 70, 75]\n",
    "}\n",
    "df = pd.DataFrame(data, columns=['Name', 'Field', 'Age', 'Marks'])\n",
    "df.drop(['Age'], axis=1, inplace=True)\n",
    "df.replace('','---', inplace=True)\n",
    "df['Field'].replace({'C': 0, 'E': 1}, inplace=True)\n",
    "df.loc[df['Marks'] < 0, 'Marks'] = df['Marks'].mean()\n",
    "print(df)"
   ]
  },
  {
   "cell_type": "code",
   "execution_count": null,
   "id": "a2a81284",
   "metadata": {},
   "outputs": [],
   "source": []
  }
 ],
 "metadata": {
  "kernelspec": {
   "display_name": "Python 3 (ipykernel)",
   "language": "python",
   "name": "python3"
  },
  "language_info": {
   "codemirror_mode": {
    "name": "ipython",
    "version": 3
   },
   "file_extension": ".py",
   "mimetype": "text/x-python",
   "name": "python",
   "nbconvert_exporter": "python",
   "pygments_lexer": "ipython3",
   "version": "3.9.7"
  }
 },
 "nbformat": 4,
 "nbformat_minor": 5
}
