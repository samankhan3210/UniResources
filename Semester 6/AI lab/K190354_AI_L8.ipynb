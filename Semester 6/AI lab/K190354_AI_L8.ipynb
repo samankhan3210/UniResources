{
 "cells": [
  {
   "cell_type": "code",
   "execution_count": 4,
   "id": "32c486f1",
   "metadata": {},
   "outputs": [
    {
     "name": "stdout",
     "output_type": "stream",
     "text": [
      "The probability for a score that is even or greater than 7 in this simulation is:  66.64 %\n"
     ]
    }
   ],
   "source": [
    "# Question number 01\n",
    "import random\n",
    "import numpy as np\n",
    "\n",
    "score = 0\n",
    "count = 0 \n",
    "for i in range(10000):\n",
    "    die1 = random.randint(1,6)\n",
    "    die2 = random.randint(1,6)\n",
    "    score = die1 + die2\n",
    "    if score%2 == 0 or score >7:\n",
    "        count =count+1\n",
    "x = count/10000\n",
    "x=np.round(x*100, 2)\n",
    "print(\"The probability for a score that is even or greater than 7 in this simulation is: \",  x, '%')"
   ]
  },
  {
   "cell_type": "code",
   "execution_count": 9,
   "id": "33fe902a",
   "metadata": {},
   "outputs": [
    {
     "name": "stdout",
     "output_type": "stream",
     "text": [
      "Probability of drawing 3 white balls and 2 red balls is:  0.0004174668113884946\n",
      "Probability of picking 5 white balls is:  4.6141069e-05\n",
      "Probability of picking 5 red balls is:  0.002838774317\n",
      "Probability of picking 5 green balls is:  0.026092774309\n",
      "Probability of picking 5 balls of same colour is:  0.028977689695\n"
     ]
    }
   ],
   "source": [
    "# Question number 02\n",
    "\n",
    "list1=['white', 'red', 'green']\n",
    "list2=[10, 20, 30]\n",
    "\n",
    "def white(): \n",
    "    for x in range(1):\n",
    "        prob=1\n",
    "        for i in range(3): \n",
    "            total=sum(list2)\n",
    "            prob=prob* (list2[x]/total)\n",
    "            list2[x]=list2[x]-1\n",
    "    return prob\n",
    "\n",
    "def red():\n",
    "    for x in range(1,2):\n",
    "        prob=1\n",
    "        for i in range(2): \n",
    "            total=sum(list2)\n",
    "            prob=prob* (list2[x]/total)\n",
    "            list2[x]=list2[x]-1\n",
    "    return prob\n",
    "\n",
    "x=white()\n",
    "y=red()\n",
    "res=x*y\n",
    "print(\"Probability of drawing 3 white balls and 2 red balls is: \", res)\n",
    "\n",
    "list2=[10, 20, 30]\n",
    "total_prob=0\n",
    "for i in range (3):\n",
    "    prob=1\n",
    "    for j in range (5):\n",
    "        total1=sum(list2)\n",
    "        prob=(prob)*(list2[i]/total1)\n",
    "        list2[i]=list2[i]-1\n",
    "    list2[i]=list2[i]+5\n",
    "    total_prob=total_prob+prob\n",
    "    print(\"Probability of picking 5\" , list1[i], \"balls is: \" , np.round(prob, 12))\n",
    "print(\"Probability of picking 5 balls of same colour is: \", np.round(total_prob,12))"
   ]
  },
  {
   "cell_type": "code",
   "execution_count": 10,
   "id": "c3e92d6c",
   "metadata": {},
   "outputs": [
    {
     "name": "stdout",
     "output_type": "stream",
     "text": [
      "Probability of two boys is:  0.375\n"
     ]
    }
   ],
   "source": [
    "# Question number 03\n",
    "\n",
    "sample_space= [['B', 'B', 'B', 'B'], \n",
    "               ['B', 'B', 'B', 'G'], \n",
    "               ['B', 'B', 'G', 'B'],\n",
    "               ['B', 'G', 'B', 'B'],\n",
    "               ['G', 'B', 'B', 'B'],\n",
    "               ['G', 'G', 'B', 'B'],\n",
    "               ['G', 'B', 'B', 'G'],\n",
    "               ['B', 'B', 'G', 'G'],\n",
    "               ['B', 'G', 'B', 'G'],\n",
    "               ['G', 'B', 'G', 'B'],\n",
    "               ['B', 'G', 'G', 'B'],\n",
    "               ['B', 'G', 'G', 'G'],\n",
    "               ['G', 'G', 'G', 'B'],\n",
    "               ['G', 'B', 'G', 'G'],\n",
    "               ['G', 'G', 'B', 'G'],\n",
    "               ['G', 'G', 'G', 'G']] \n",
    "\n",
    "count=0\n",
    "for i in range(16):\n",
    "    count2=0\n",
    "    for j in range (4): \n",
    "        if sample_space[i][j]=='B': \n",
    "            count2=count2+1\n",
    "    if count2==2: \n",
    "        count=count+1    \n",
    "print(\"Probability of two boys is: \", count/16)"
   ]
  },
  {
   "cell_type": "code",
   "execution_count": 11,
   "id": "d3d57b60",
   "metadata": {},
   "outputs": [
    {
     "name": "stdout",
     "output_type": "stream",
     "text": [
      "The probability of obtaining at least one Heads is:  0.75\n"
     ]
    }
   ],
   "source": [
    "# Question number 04\n",
    "import re\n",
    "\n",
    "sample_space=['HH', 'TH', 'HT', 'TT']\n",
    "count=0\n",
    "for i in range(len(sample_space)):\n",
    "    x=sample_space[i]\n",
    "    if (re.search('[H]', x)):\n",
    "        count=count+1\n",
    "print(\"The probability of obtaining at least one Heads is: \" , count/len(sample_space))"
   ]
  },
  {
   "cell_type": "code",
   "execution_count": 12,
   "id": "f6c71999",
   "metadata": {},
   "outputs": [
    {
     "name": "stdout",
     "output_type": "stream",
     "text": [
      "The probability of event E is:  0.4444444444444444\n"
     ]
    }
   ],
   "source": [
    "# Question number 05\n",
    "\n",
    "prob_odd=1/9\n",
    "prob_even=2/9\n",
    "prob=0\n",
    "for i in range(1,7):\n",
    "    if i<4: \n",
    "        if i%2==0: \n",
    "            prob=prob+prob_even\n",
    "        else: \n",
    "            prob=prob+prob_odd\n",
    "print(\"The probability of event E is: \", prob)"
   ]
  },
  {
   "cell_type": "code",
   "execution_count": 13,
   "id": "33ef9fdc",
   "metadata": {},
   "outputs": [
    {
     "name": "stdout",
     "output_type": "stream",
     "text": [
      "Probability of A intersection B is:  0.16666666666666666\n",
      "Probability of A union B is:  0.6666666666666666\n"
     ]
    }
   ],
   "source": [
    "# Question number 06\n",
    "\n",
    "lst1=[]\n",
    "lst2=[]\n",
    "common=[]\n",
    "\n",
    "def prob_even(): \n",
    "    count=0\n",
    "    for i in range(1,7): \n",
    "        if i%2==0: \n",
    "            lst1.append(i)\n",
    "            count=count+1\n",
    "    \n",
    "    return count/6\n",
    "\n",
    "def div_by_3(): \n",
    "    count=0\n",
    "    for i in range(1,7): \n",
    "        if i%3==0:\n",
    "            lst2.append(i)\n",
    "            count=count+1\n",
    "    return count/6\n",
    "\n",
    "def intersection():\n",
    "    for val in lst1: \n",
    "        if val in lst2: \n",
    "            common.append(val)\n",
    "    \n",
    "    size=len(common)\n",
    "    print(\"Probability of A intersection B is: \", size/6)\n",
    "    return size/6\n",
    "\n",
    "\n",
    "e=prob_even()\n",
    "d=div_by_3()\n",
    "x=intersection()\n",
    "res=e+d-x\n",
    "print(\"Probability of A union B is: \" , res)"
   ]
  },
  {
   "cell_type": "code",
   "execution_count": null,
   "id": "ead71858",
   "metadata": {},
   "outputs": [],
   "source": []
  }
 ],
 "metadata": {
  "kernelspec": {
   "display_name": "Python 3",
   "language": "python",
   "name": "python3"
  },
  "language_info": {
   "codemirror_mode": {
    "name": "ipython",
    "version": 3
   },
   "file_extension": ".py",
   "mimetype": "text/x-python",
   "name": "python",
   "nbconvert_exporter": "python",
   "pygments_lexer": "ipython3",
   "version": "3.8.8"
  }
 },
 "nbformat": 4,
 "nbformat_minor": 5
}
