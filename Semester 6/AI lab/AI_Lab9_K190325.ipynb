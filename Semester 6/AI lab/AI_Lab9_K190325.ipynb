{
 "cells": [
  {
   "cell_type": "code",
   "execution_count": 14,
   "metadata": {
    "id": "zY58k849uJCo"
   },
   "outputs": [],
   "source": [
    "sample_space = [\n",
    "    0.3,\n",
    "    0.2,\n",
    "    0.5\n",
    "]\n",
    "\n",
    "defects = [\n",
    "    0.01,\n",
    "    0.03,\n",
    "    0.02\n",
    "]\n"
   ]
  },
  {
   "cell_type": "code",
   "execution_count": 22,
   "metadata": {
    "id": "g57xQTzCvXxb"
   },
   "outputs": [],
   "source": [
    "P = []\n",
    "pPDP = 0\n",
    "for key, value in enumerate(sample_space):\n",
    "  pPDP += (sample_space[key] * defects[key])\n",
    "\n",
    "for key, value in enumerate(sample_space):\n",
    "  P.append((sample_space[key] * defects[key]) / pPDP) \n"
   ]
  },
  {
   "cell_type": "code",
   "execution_count": 24,
   "metadata": {
    "colab": {
     "base_uri": "https://localhost:8080/"
    },
    "id": "qjBE6B4bx7JM",
    "outputId": "2aff9fa2-8394-4300-d6d3-7218e69ed7ef"
   },
   "outputs": [
    {
     "name": "stdout",
     "output_type": "stream",
     "text": [
      "Plan Probability:  [0.15789473684210525, 0.3157894736842105, 0.5263157894736842]\n",
      "Plan most likely to used: Plan 3\n",
      "Probability of most likely used plan:  0.5263157894736842\n"
     ]
    }
   ],
   "source": [
    "print(\"Plan Probability: \", P)\n",
    "# P.sort(reverse=True)\n",
    "ans = max(P)\n",
    "plan = P.index(ans) + 1\n",
    "\n",
    "print(\"Plan most likely to used: Plan\", plan)\n",
    "print(\"Probability of most likely used plan: \", ans)"
   ]
  }
 ],
 "metadata": {
  "colab": {
   "collapsed_sections": [],
   "name": "AI_Lab9_K190325",
   "provenance": []
  },
  "kernelspec": {
   "display_name": "Python 3",
   "name": "python3"
  },
  "language_info": {
   "name": "python"
  }
 },
 "nbformat": 4,
 "nbformat_minor": 0
}
