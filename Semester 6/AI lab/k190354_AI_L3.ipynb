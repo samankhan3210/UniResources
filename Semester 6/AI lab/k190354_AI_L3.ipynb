{
 "cells": [
  {
   "cell_type": "code",
   "execution_count": 21,
   "metadata": {},
   "outputs": [
    {
     "name": "stdout",
     "output_type": "stream",
     "text": [
      "Distance b/w R and A is = 6.082762530298219\n",
      "Distance b/w R and B is = 3.1622776601683795\n",
      "Distance b/w R and C is = 8.48528137423857\n",
      "Distance b/w R and D is = 6.0\n",
      "Distance b/w R and N is = 4.47213595499958\n"
     ]
    }
   ],
   "source": [
    "import numpy as np\n",
    "import math\n",
    "\n",
    "arr = np.array([[0,0,0,0,0,'N',0,0,0,0],\n",
    "       [0,0,0,0,0,0,0,0,0,0],\n",
    "       [0,'R',0,0,0,0,0,0,0,0],\n",
    "       [0,0,0,0,0,0,0,'A',0,0],\n",
    "       [0,0,0,0,0,0,0,0,0,0],\n",
    "       [0,0,'B',0,0,0,0,0,0,0],\n",
    "       [0,0,0,0,0,0,0,0,0,0],\n",
    "       [0,0,0,0,0,0,0,0,0,0],\n",
    "       [0,'D',0,0,0,0,0,'C',0,0],\n",
    "       [0,0,0,0,0,0,0,0,0,0]])\n",
    "\n",
    "ind1 = np.argwhere(arr == 'R')\n",
    "lst = ['A', 'B', 'C', 'D', 'N']\n",
    "dist = []\n",
    "for i in range(len(lst)):\n",
    "    if lst[i] in arr:\n",
    "        ind2 = np.argwhere(arr == lst[i])\n",
    "        distance = math.sqrt(((ind2[0,0]-ind1[0,0])**2)+((ind2[0,1]-ind1[0,1])**2))\n",
    "        \n",
    "        dist.append(distance)\n",
    "        print('Distance b/w R and' ,lst[i], 'is =', dist[i])\n",
    "        "
   ]
  },
  {
   "cell_type": "code",
   "execution_count": 23,
   "metadata": {},
   "outputs": [
    {
     "name": "stdout",
     "output_type": "stream",
     "text": [
      "Force acting on SDC = 19200N\n"
     ]
    }
   ],
   "source": [
    "a = 120\n",
    "m = 160\n",
    "f= a*m\n",
    "print('Force acting on SDC =', str(f)+'N')"
   ]
  },
  {
   "cell_type": "code",
   "execution_count": 28,
   "metadata": {},
   "outputs": [
    {
     "name": "stdout",
     "output_type": "stream",
     "text": [
      "Enter temp from sensor 1 in centigrade : \n",
      "14\n",
      "Enter temp from sensor 2 in centigrade : \n",
      "40\n",
      "Enter temp from sensor 3 in centigrade : \n",
      "33\n",
      "Enter temp from sensor 4 in centigrade : \n",
      "12\n",
      "Enter temp from sensor 5 in centigrade : \n",
      "25\n",
      "Enter temp from sensor 6 in centigrade : \n",
      "41\n",
      "Enter temp from sensor 7 in centigrade : \n",
      "35\n",
      "Enter temp from sensor 8 in centigrade : \n",
      "21\n",
      "Enter temp from sensor 9 in centigrade : \n",
      "20\n",
      "Average temperature in farenheit = 144.35999999999999 F\n"
     ]
    }
   ],
   "source": [
    "temp = []\n",
    "for i in range(9):\n",
    "    print('Enter temp from sensor',i+1,'in centigrade : ')\n",
    "    t = float(input())\n",
    "    temp.append((1.8*t)+32)\n",
    "    \n",
    "avg = sum(temp)/len(lst)\n",
    "print('Average temperature in farenheit =', str(avg)+'F')"
   ]
  },
  {
   "cell_type": "code",
   "execution_count": null,
   "metadata": {},
   "outputs": [],
   "source": []
  }
 ],
 "metadata": {
  "kernelspec": {
   "display_name": "Python 3",
   "language": "python",
   "name": "python3"
  },
  "language_info": {
   "codemirror_mode": {
    "name": "ipython",
    "version": 3
   },
   "file_extension": ".py",
   "mimetype": "text/x-python",
   "name": "python",
   "nbconvert_exporter": "python",
   "pygments_lexer": "ipython3",
   "version": "3.7.4"
  }
 },
 "nbformat": 4,
 "nbformat_minor": 2
}
