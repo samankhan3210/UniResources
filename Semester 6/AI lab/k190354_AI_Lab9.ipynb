{
 "cells": [
  {
   "cell_type": "code",
   "execution_count": 4,
   "id": "c644c41e",
   "metadata": {},
   "outputs": [
    {
     "name": "stdout",
     "output_type": "stream",
     "text": [
      "0.019000000000000003\n",
      "[0.15789473684210525, 0.3157894736842105, 0.5263157894736842]\n",
      "The plan that is most likely used and responsible for the defect is: Plan #3\n"
     ]
    }
   ],
   "source": [
    "plans = [0.3 , 0.2, 0.5]\n",
    "defective = [0.01, 0.03, 0.02]\n",
    "result = []\n",
    "denominator = 0\n",
    "for i in range(3): \n",
    "    denominator = denominator + (plans[i]*defective[i])\n",
    "print(denominator)\n",
    "for i in range(3): \n",
    "    result.append((plans[i]*defective[i])/denominator)\n",
    "print(result)\n",
    "a = result.index(max(result))\n",
    "print(\"The plan that is most likely used and responsible for the defect is: Plan #\" + str(a+1))"
   ]
  },
  {
   "cell_type": "code",
   "execution_count": null,
   "id": "c06ae1cd",
   "metadata": {},
   "outputs": [],
   "source": []
  }
 ],
 "metadata": {
  "kernelspec": {
   "display_name": "Python 3",
   "language": "python",
   "name": "python3"
  },
  "language_info": {
   "codemirror_mode": {
    "name": "ipython",
    "version": 3
   },
   "file_extension": ".py",
   "mimetype": "text/x-python",
   "name": "python",
   "nbconvert_exporter": "python",
   "pygments_lexer": "ipython3",
   "version": "3.8.8"
  }
 },
 "nbformat": 4,
 "nbformat_minor": 5
}
